{
  "nbformat": 4,
  "nbformat_minor": 0,
  "metadata": {
    "colab": {
      "provenance": [],
      "authorship_tag": "ABX9TyMRSeuNVdzWVySMggrFgxix",
      "include_colab_link": true
    },
    "kernelspec": {
      "name": "python3",
      "display_name": "Python 3"
    },
    "language_info": {
      "name": "python"
    }
  },
  "cells": [
    {
      "cell_type": "markdown",
      "metadata": {
        "id": "view-in-github",
        "colab_type": "text"
      },
      "source": [
        "<a href=\"https://colab.research.google.com/github/freezerjan/house-price-prediction-linikea-/blob/main/house_price.ipynb\" target=\"_parent\"><img src=\"https://colab.research.google.com/assets/colab-badge.svg\" alt=\"Open In Colab\"/></a>"
      ]
    },
    {
      "cell_type": "code",
      "execution_count": 7,
      "metadata": {
        "colab": {
          "base_uri": "https://localhost:8080/",
          "height": 73
        },
        "id": "k9T9uVKiVipI",
        "outputId": "ed22f525-cf4c-4021-fed8-b3f3cf5b165d"
      },
      "outputs": [
        {
          "output_type": "display_data",
          "data": {
            "text/plain": [
              "<IPython.core.display.HTML object>"
            ],
            "text/html": [
              "\n",
              "     <input type=\"file\" id=\"files-7cfc2b4e-3640-408f-a020-0d980728b3a0\" name=\"files[]\" multiple disabled\n",
              "        style=\"border:none\" />\n",
              "     <output id=\"result-7cfc2b4e-3640-408f-a020-0d980728b3a0\">\n",
              "      Upload widget is only available when the cell has been executed in the\n",
              "      current browser session. Please rerun this cell to enable.\n",
              "      </output>\n",
              "      <script>// Copyright 2017 Google LLC\n",
              "//\n",
              "// Licensed under the Apache License, Version 2.0 (the \"License\");\n",
              "// you may not use this file except in compliance with the License.\n",
              "// You may obtain a copy of the License at\n",
              "//\n",
              "//      http://www.apache.org/licenses/LICENSE-2.0\n",
              "//\n",
              "// Unless required by applicable law or agreed to in writing, software\n",
              "// distributed under the License is distributed on an \"AS IS\" BASIS,\n",
              "// WITHOUT WARRANTIES OR CONDITIONS OF ANY KIND, either express or implied.\n",
              "// See the License for the specific language governing permissions and\n",
              "// limitations under the License.\n",
              "\n",
              "/**\n",
              " * @fileoverview Helpers for google.colab Python module.\n",
              " */\n",
              "(function(scope) {\n",
              "function span(text, styleAttributes = {}) {\n",
              "  const element = document.createElement('span');\n",
              "  element.textContent = text;\n",
              "  for (const key of Object.keys(styleAttributes)) {\n",
              "    element.style[key] = styleAttributes[key];\n",
              "  }\n",
              "  return element;\n",
              "}\n",
              "\n",
              "// Max number of bytes which will be uploaded at a time.\n",
              "const MAX_PAYLOAD_SIZE = 100 * 1024;\n",
              "\n",
              "function _uploadFiles(inputId, outputId) {\n",
              "  const steps = uploadFilesStep(inputId, outputId);\n",
              "  const outputElement = document.getElementById(outputId);\n",
              "  // Cache steps on the outputElement to make it available for the next call\n",
              "  // to uploadFilesContinue from Python.\n",
              "  outputElement.steps = steps;\n",
              "\n",
              "  return _uploadFilesContinue(outputId);\n",
              "}\n",
              "\n",
              "// This is roughly an async generator (not supported in the browser yet),\n",
              "// where there are multiple asynchronous steps and the Python side is going\n",
              "// to poll for completion of each step.\n",
              "// This uses a Promise to block the python side on completion of each step,\n",
              "// then passes the result of the previous step as the input to the next step.\n",
              "function _uploadFilesContinue(outputId) {\n",
              "  const outputElement = document.getElementById(outputId);\n",
              "  const steps = outputElement.steps;\n",
              "\n",
              "  const next = steps.next(outputElement.lastPromiseValue);\n",
              "  return Promise.resolve(next.value.promise).then((value) => {\n",
              "    // Cache the last promise value to make it available to the next\n",
              "    // step of the generator.\n",
              "    outputElement.lastPromiseValue = value;\n",
              "    return next.value.response;\n",
              "  });\n",
              "}\n",
              "\n",
              "/**\n",
              " * Generator function which is called between each async step of the upload\n",
              " * process.\n",
              " * @param {string} inputId Element ID of the input file picker element.\n",
              " * @param {string} outputId Element ID of the output display.\n",
              " * @return {!Iterable<!Object>} Iterable of next steps.\n",
              " */\n",
              "function* uploadFilesStep(inputId, outputId) {\n",
              "  const inputElement = document.getElementById(inputId);\n",
              "  inputElement.disabled = false;\n",
              "\n",
              "  const outputElement = document.getElementById(outputId);\n",
              "  outputElement.innerHTML = '';\n",
              "\n",
              "  const pickedPromise = new Promise((resolve) => {\n",
              "    inputElement.addEventListener('change', (e) => {\n",
              "      resolve(e.target.files);\n",
              "    });\n",
              "  });\n",
              "\n",
              "  const cancel = document.createElement('button');\n",
              "  inputElement.parentElement.appendChild(cancel);\n",
              "  cancel.textContent = 'Cancel upload';\n",
              "  const cancelPromise = new Promise((resolve) => {\n",
              "    cancel.onclick = () => {\n",
              "      resolve(null);\n",
              "    };\n",
              "  });\n",
              "\n",
              "  // Wait for the user to pick the files.\n",
              "  const files = yield {\n",
              "    promise: Promise.race([pickedPromise, cancelPromise]),\n",
              "    response: {\n",
              "      action: 'starting',\n",
              "    }\n",
              "  };\n",
              "\n",
              "  cancel.remove();\n",
              "\n",
              "  // Disable the input element since further picks are not allowed.\n",
              "  inputElement.disabled = true;\n",
              "\n",
              "  if (!files) {\n",
              "    return {\n",
              "      response: {\n",
              "        action: 'complete',\n",
              "      }\n",
              "    };\n",
              "  }\n",
              "\n",
              "  for (const file of files) {\n",
              "    const li = document.createElement('li');\n",
              "    li.append(span(file.name, {fontWeight: 'bold'}));\n",
              "    li.append(span(\n",
              "        `(${file.type || 'n/a'}) - ${file.size} bytes, ` +\n",
              "        `last modified: ${\n",
              "            file.lastModifiedDate ? file.lastModifiedDate.toLocaleDateString() :\n",
              "                                    'n/a'} - `));\n",
              "    const percent = span('0% done');\n",
              "    li.appendChild(percent);\n",
              "\n",
              "    outputElement.appendChild(li);\n",
              "\n",
              "    const fileDataPromise = new Promise((resolve) => {\n",
              "      const reader = new FileReader();\n",
              "      reader.onload = (e) => {\n",
              "        resolve(e.target.result);\n",
              "      };\n",
              "      reader.readAsArrayBuffer(file);\n",
              "    });\n",
              "    // Wait for the data to be ready.\n",
              "    let fileData = yield {\n",
              "      promise: fileDataPromise,\n",
              "      response: {\n",
              "        action: 'continue',\n",
              "      }\n",
              "    };\n",
              "\n",
              "    // Use a chunked sending to avoid message size limits. See b/62115660.\n",
              "    let position = 0;\n",
              "    do {\n",
              "      const length = Math.min(fileData.byteLength - position, MAX_PAYLOAD_SIZE);\n",
              "      const chunk = new Uint8Array(fileData, position, length);\n",
              "      position += length;\n",
              "\n",
              "      const base64 = btoa(String.fromCharCode.apply(null, chunk));\n",
              "      yield {\n",
              "        response: {\n",
              "          action: 'append',\n",
              "          file: file.name,\n",
              "          data: base64,\n",
              "        },\n",
              "      };\n",
              "\n",
              "      let percentDone = fileData.byteLength === 0 ?\n",
              "          100 :\n",
              "          Math.round((position / fileData.byteLength) * 100);\n",
              "      percent.textContent = `${percentDone}% done`;\n",
              "\n",
              "    } while (position < fileData.byteLength);\n",
              "  }\n",
              "\n",
              "  // All done.\n",
              "  yield {\n",
              "    response: {\n",
              "      action: 'complete',\n",
              "    }\n",
              "  };\n",
              "}\n",
              "\n",
              "scope.google = scope.google || {};\n",
              "scope.google.colab = scope.google.colab || {};\n",
              "scope.google.colab._files = {\n",
              "  _uploadFiles,\n",
              "  _uploadFilesContinue,\n",
              "};\n",
              "})(self);\n",
              "</script> "
            ]
          },
          "metadata": {}
        },
        {
          "output_type": "stream",
          "name": "stdout",
          "text": [
            "Saving house_kg_10K_ads.csv to house_kg_10K_ads.csv\n"
          ]
        }
      ],
      "source": [
        "from google.colab import files\n",
        "\n",
        "uploaded = files.upload()  # Открывается окно для загрузки"
      ]
    },
    {
      "cell_type": "code",
      "source": [
        "import pandas as pd\n",
        "\n",
        "df = pd.read_csv(\"house_kg_10K_ads.csv\")\n",
        "\n",
        "print(df.head())\n",
        "\n",
        "print(df.columns)"
      ],
      "metadata": {
        "colab": {
          "base_uri": "https://localhost:8080/"
        },
        "id": "_ESmTWaOent8",
        "outputId": "6af12637-6bf7-4482-9766-cab9f338c8ee"
      },
      "execution_count": 9,
      "outputs": [
        {
          "output_type": "stream",
          "name": "stdout",
          "text": [
            "    price  m2_price  square rooms           district micro_district  \\\n",
            "0  110880       720     154     4  Октябрьский район     Магистраль   \n",
            "1   57000       740      77     2  Октябрьский район     Магистраль   \n",
            "2   57750       750      77     2  Октябрьский район     Магистраль   \n",
            "3   57000       740      77     2  Октябрьский район     Магистраль   \n",
            "4   55000      1279      43     1    Ленинский район  Академия Наук   \n",
            "\n",
            "  building_type  floor  floors    year                 date source  \\\n",
            "0     кирпичный     12      14  2023.0  2023-02-04 20:05:01   Site   \n",
            "1     кирпичный      5      12  2023.0  2023-02-04 20:04:49   Site   \n",
            "2    монолитный      5      12  2023.0  2023-02-04 20:04:37   Site   \n",
            "3     кирпичный      5      12  2023.0  2023-02-04 20:04:01   Site   \n",
            "4     кирпичный      1      12  2013.0  2023-02-04 20:02:37   Site   \n",
            "\n",
            "               condition  \n",
            "0  под самоотделку (ПСО)  \n",
            "1  под самоотделку (ПСО)  \n",
            "2  под самоотделку (ПСО)  \n",
            "3  под самоотделку (ПСО)  \n",
            "4                хорошее  \n",
            "Index(['price', 'm2_price', 'square', 'rooms', 'district', 'micro_district',\n",
            "       'building_type', 'floor', 'floors', 'year', 'date', 'source',\n",
            "       'condition'],\n",
            "      dtype='object')\n"
          ]
        }
      ]
    },
    {
      "cell_type": "code",
      "source": [
        "import pandas as pd\n",
        "\n",
        "df_price = df[df[\"price\"] < 50000]\n",
        "\"Цена меньше 50 000$:\", df_price.head()"
      ],
      "metadata": {
        "colab": {
          "base_uri": "https://localhost:8080/"
        },
        "id": "yamfqVlOgWa1",
        "outputId": "d6f56ae5-bb1d-4376-8c61-657f59686559"
      },
      "execution_count": 28,
      "outputs": [
        {
          "output_type": "execute_result",
          "data": {
            "text/plain": [
              "('Цена меньше 50 000$:',\n",
              "     price  m2_price  square rooms            district micro_district  \\\n",
              " 11  41500      1383      30     1   Октябрьский район          6 м-н   \n",
              " 24  38500      1167      33     1  Свердловский район   Восток-5 м-н   \n",
              " 29  42800       951      45     1   Октябрьский район    Кок-Жар ж/м   \n",
              " 31  47000      1093      43     2   Октябрьский район          4 м-н   \n",
              " 32  47000      1093      43     2   Октябрьский район          4 м-н   \n",
              " \n",
              "    building_type  floor  floors  year                date   source condition  \n",
              " 11     панельный      4       4   NaN 2023-02-04 19:38:37  Android   хорошее  \n",
              " 24     панельный      4       9   NaN 2023-02-04 19:35:38     Site   хорошее  \n",
              " 29     панельный      8       9   NaN 2023-02-04 19:33:26     Site   хорошее  \n",
              " 31     панельный      4       4   NaN 2023-02-04 19:33:02     Site   хорошее  \n",
              " 32     панельный      4       4   NaN 2023-02-04 19:32:50     Site   хорошее  )"
            ]
          },
          "metadata": {},
          "execution_count": 28
        }
      ]
    },
    {
      "cell_type": "code",
      "source": [
        "df_m2_price = df[df[\"m2_price\"] > 1000]\n",
        "\"Цена за м² > 1000$:\", df_m2_price.head()"
      ],
      "metadata": {
        "colab": {
          "base_uri": "https://localhost:8080/"
        },
        "id": "ARJlNcA8oOnV",
        "outputId": "3aabfd2b-7fc0-4f37-805c-a9156dbce166"
      },
      "execution_count": 13,
      "outputs": [
        {
          "output_type": "stream",
          "name": "stdout",
          "text": [
            "Цена за м² > 1000$:     price  m2_price  square rooms            district  micro_district  \\\n",
            "4   55000      1279      43     1     Ленинский район   Академия Наук   \n",
            "5   97000      1276      76     2  Первомайский район       ЖД вокзал   \n",
            "6  160000      1455     110     3  Первомайский район             NaN   \n",
            "8   68000      1283      53     1   Октябрьский район      Магистраль   \n",
            "9   57500      1198      48     2  Свердловский район  Аламедин-1 м-н   \n",
            "\n",
            "  building_type  floor  floors    year                 date source   condition  \n",
            "4     кирпичный      1      12  2013.0  2023-02-04 20:02:37   Site     хорошее  \n",
            "5     кирпичный     10      12     NaN  2023-02-04 19:58:38   Site  евроремонт  \n",
            "6     кирпичный      3       3  2015.0  2023-02-04 19:48:55   Site  евроремонт  \n",
            "8    монолитный      7       9  2019.0  2023-02-04 19:39:14   Site  евроремонт  \n",
            "9     кирпичный      8      10     NaN  2023-02-04 19:39:02   Site         NaN  \n"
          ]
        }
      ]
    },
    {
      "cell_type": "code",
      "source": [
        "df_square = df[(df[\"square\"] >= 50) & (df[\"square\"] <= 100)]\n",
        "\"Площадь 50-100 м²:\", df_square.head()"
      ],
      "metadata": {
        "colab": {
          "base_uri": "https://localhost:8080/"
        },
        "id": "FTYiItywoTCk",
        "outputId": "1887f838-d007-482b-f688-8394a6cebced"
      },
      "execution_count": 14,
      "outputs": [
        {
          "output_type": "stream",
          "name": "stdout",
          "text": [
            "Площадь 50-100 м²:    price  m2_price  square rooms            district micro_district  \\\n",
            "1  57000       740      77     2   Октябрьский район     Магистраль   \n",
            "2  57750       750      77     2   Октябрьский район     Магистраль   \n",
            "3  57000       740      77     2   Октябрьский район     Магистраль   \n",
            "5  97000      1276      76     2  Первомайский район      ЖД вокзал   \n",
            "8  68000      1283      53     1   Октябрьский район     Магистраль   \n",
            "\n",
            "  building_type  floor  floors    year                 date source  \\\n",
            "1     кирпичный      5      12  2023.0  2023-02-04 20:04:49   Site   \n",
            "2    монолитный      5      12  2023.0  2023-02-04 20:04:37   Site   \n",
            "3     кирпичный      5      12  2023.0  2023-02-04 20:04:01   Site   \n",
            "5     кирпичный     10      12     NaN  2023-02-04 19:58:38   Site   \n",
            "8    монолитный      7       9  2019.0  2023-02-04 19:39:14   Site   \n",
            "\n",
            "               condition  \n",
            "1  под самоотделку (ПСО)  \n",
            "2  под самоотделку (ПСО)  \n",
            "3  под самоотделку (ПСО)  \n",
            "5             евроремонт  \n",
            "8             евроремонт  \n"
          ]
        }
      ]
    },
    {
      "cell_type": "code",
      "source": [
        "df_rooms = df[df[\"rooms\"] == 2]\n",
        "\"Двухкомнатные квартиры:\", df_rooms.head()"
      ],
      "metadata": {
        "colab": {
          "base_uri": "https://localhost:8080/"
        },
        "id": "RY_ULhVFoaf0",
        "outputId": "5c96482b-ba70-452e-f5c9-6b5b3f2576dc"
      },
      "execution_count": 15,
      "outputs": [
        {
          "output_type": "stream",
          "name": "stdout",
          "text": [
            "Двухкомнатные квартиры: Empty DataFrame\n",
            "Columns: [price, m2_price, square, rooms, district, micro_district, building_type, floor, floors, year, date, source, condition]\n",
            "Index: []\n"
          ]
        }
      ]
    },
    {
      "cell_type": "code",
      "source": [
        "df_district = df[df[\"district\"].isin([\"Аламедин\", \"Ленинский\"])]\n",
        "\"Районы Аламедин или Ленинский:\", df_district.head()"
      ],
      "metadata": {
        "colab": {
          "base_uri": "https://localhost:8080/"
        },
        "id": "jIknIYnzolv0",
        "outputId": "8f860674-3f43-4382-8f5f-0ab4bac58aef"
      },
      "execution_count": 16,
      "outputs": [
        {
          "output_type": "stream",
          "name": "stdout",
          "text": [
            "Районы Аламедин или Ленинский: Empty DataFrame\n",
            "Columns: [price, m2_price, square, rooms, district, micro_district, building_type, floor, floors, year, date, source, condition]\n",
            "Index: []\n"
          ]
        }
      ]
    },
    {
      "cell_type": "code",
      "source": [
        "df_micro_district = df[df[\"micro_district\"].isnull()]\n",
        "\"Без микрорайона:\", df_micro_district.head()"
      ],
      "metadata": {
        "colab": {
          "base_uri": "https://localhost:8080/"
        },
        "id": "tQpOAD6Qoyo1",
        "outputId": "57b88eb6-fa73-4531-b14f-28790d21dd10"
      },
      "execution_count": 17,
      "outputs": [
        {
          "output_type": "stream",
          "name": "stdout",
          "text": [
            "Без микрорайона:      price  m2_price  square rooms            district micro_district  \\\n",
            "6   160000      1455     110     3  Первомайский район            NaN   \n",
            "10   60000      1364      44     1   Октябрьский район            NaN   \n",
            "49   96600      1150      84     2   Октябрьский район            NaN   \n",
            "53   67500      1125      60     2   Октябрьский район            NaN   \n",
            "55   38500      1041      37     1   Октябрьский район            NaN   \n",
            "\n",
            "   building_type  floor  floors    year                 date source  \\\n",
            "6      кирпичный      3       3  2015.0  2023-02-04 19:48:55   Site   \n",
            "10    монолитный      8      12  2021.0  2023-02-04 19:38:38   Site   \n",
            "49    монолитный     10      12  2021.0  2023-02-04 19:28:26   Site   \n",
            "53    монолитный      3      12  2017.0  2023-02-04 19:27:38   Site   \n",
            "55    монолитный     10      10  2022.0  2023-02-04 19:27:14   Site   \n",
            "\n",
            "                condition  \n",
            "6              евроремонт  \n",
            "10             евроремонт  \n",
            "49  под самоотделку (ПСО)  \n",
            "53             евроремонт  \n",
            "55                    NaN  \n"
          ]
        }
      ]
    },
    {
      "cell_type": "code",
      "source": [
        "df_building_type = df[df[\"building_type\"].str.contains(\"панель\", case=False, na=False)]\n",
        "\"Панельные дома:\", df_building_type.head()"
      ],
      "metadata": {
        "colab": {
          "base_uri": "https://localhost:8080/"
        },
        "id": "bNhfpPXAo2Td",
        "outputId": "9152c2aa-5f42-458b-fb22-04bb9b33c086"
      },
      "execution_count": 19,
      "outputs": [
        {
          "output_type": "stream",
          "name": "stdout",
          "text": [
            "Панельные дома:     price  m2_price  square rooms            district  \\\n",
            "11  41500      1383      30     1   Октябрьский район   \n",
            "17  78000       963      81     3     Ленинский район   \n",
            "24  38500      1167      33     1  Свердловский район   \n",
            "26  90000       909      99     3     Ленинский район   \n",
            "29  42800       951      45     1   Октябрьский район   \n",
            "\n",
            "               micro_district building_type  floor  floors  year  \\\n",
            "11                      6 м-н     панельный      4       4   NaN   \n",
            "17  Джал-23 м-н (Нижний Джал)     панельный      1       9   NaN   \n",
            "24               Восток-5 м-н     панельный      4       9   NaN   \n",
            "26           Верхний Джал м-н     панельный      1       9   NaN   \n",
            "29                Кок-Жар ж/м     панельный      8       9   NaN   \n",
            "\n",
            "                   date   source   condition  \n",
            "11  2023-02-04 19:38:37  Android     хорошее  \n",
            "17  2023-02-04 19:37:26     Site  евроремонт  \n",
            "24  2023-02-04 19:35:38     Site     хорошее  \n",
            "26  2023-02-04 19:34:50     Site  евроремонт  \n",
            "29  2023-02-04 19:33:26     Site     хорошее  \n"
          ]
        }
      ]
    },
    {
      "cell_type": "code",
      "source": [
        "df_last_floor = df[df[\"floor\"] == df[\"floors\"]]\n",
        "\"На последнем этаже:\", df_last_floor.head()"
      ],
      "metadata": {
        "colab": {
          "base_uri": "https://localhost:8080/"
        },
        "id": "cMhTQvYXpC1t",
        "outputId": "d6256f6c-3073-4fb7-8c26-0c2eefa9b409"
      },
      "execution_count": 20,
      "outputs": [
        {
          "output_type": "stream",
          "name": "stdout",
          "text": [
            "На последнем этаже:      price  m2_price  square rooms            district micro_district  \\\n",
            "6   160000      1455     110     3  Первомайский район            NaN   \n",
            "11   41500      1383      30     1   Октябрьский район          6 м-н   \n",
            "18  112000      1244      90     3  Первомайский район       Военторг   \n",
            "19  112000      1244      90     3  Первомайский район       Военторг   \n",
            "31   47000      1093      43     2   Октябрьский район          4 м-н   \n",
            "\n",
            "   building_type  floor  floors    year                 date   source  \\\n",
            "6      кирпичный      3       3  2015.0  2023-02-04 19:48:55     Site   \n",
            "11     панельный      4       4     NaN  2023-02-04 19:38:37  Android   \n",
            "18    монолитный     13      13  2020.0  2023-02-04 19:37:14     Site   \n",
            "19    монолитный     13      13  2020.0  2023-02-04 19:37:02     Site   \n",
            "31     панельный      4       4     NaN  2023-02-04 19:33:02     Site   \n",
            "\n",
            "     condition  \n",
            "6   евроремонт  \n",
            "11     хорошее  \n",
            "18         NaN  \n",
            "19  евроремонт  \n",
            "31     хорошее  \n"
          ]
        }
      ]
    },
    {
      "cell_type": "code",
      "source": [
        "df_low_floors = df[df[\"floors\"] <= 5]\n",
        "\"Дома не выше 5 этажей:\", df_low_floors.head()"
      ],
      "metadata": {
        "colab": {
          "base_uri": "https://localhost:8080/"
        },
        "id": "UkH0YU1fpMhs",
        "outputId": "8338effd-9908-45b2-92d4-2175782915cf"
      },
      "execution_count": 21,
      "outputs": [
        {
          "output_type": "stream",
          "name": "stdout",
          "text": [
            "Дома не выше 5 этажей:      price  m2_price  square rooms            district micro_district  \\\n",
            "6   160000      1455     110     3  Первомайский район            NaN   \n",
            "11   41500      1383      30     1   Октябрьский район          6 м-н   \n",
            "22   73000       869      84     2   Октябрьский район     Магистраль   \n",
            "31   47000      1093      43     2   Октябрьский район          4 м-н   \n",
            "32   47000      1093      43     2   Октябрьский район          4 м-н   \n",
            "\n",
            "   building_type  floor  floors    year                 date   source  \\\n",
            "6      кирпичный      3       3  2015.0  2023-02-04 19:48:55     Site   \n",
            "11     панельный      4       4     NaN  2023-02-04 19:38:37  Android   \n",
            "22     кирпичный      4       5     NaN  2023-02-04 19:36:14     Site   \n",
            "31     панельный      4       4     NaN  2023-02-04 19:33:02     Site   \n",
            "32     панельный      4       4     NaN  2023-02-04 19:32:50     Site   \n",
            "\n",
            "     condition  \n",
            "6   евроремонт  \n",
            "11     хорошее  \n",
            "22     хорошее  \n",
            "31     хорошее  \n",
            "32     хорошее  \n"
          ]
        }
      ]
    },
    {
      "cell_type": "code",
      "source": [
        "df_new_buildings = df[df[\"year\"] > 2000]\n",
        "\"После 2000 года:\", df_new_buildings.head()\n"
      ],
      "metadata": {
        "colab": {
          "base_uri": "https://localhost:8080/"
        },
        "id": "Df6A98aypRec",
        "outputId": "64fee6f2-d561-4351-cae8-6e9a3b10309e"
      },
      "execution_count": 22,
      "outputs": [
        {
          "output_type": "stream",
          "name": "stdout",
          "text": [
            "После 2000 года:     price  m2_price  square rooms           district micro_district  \\\n",
            "0  110880       720     154     4  Октябрьский район     Магистраль   \n",
            "1   57000       740      77     2  Октябрьский район     Магистраль   \n",
            "2   57750       750      77     2  Октябрьский район     Магистраль   \n",
            "3   57000       740      77     2  Октябрьский район     Магистраль   \n",
            "4   55000      1279      43     1    Ленинский район  Академия Наук   \n",
            "\n",
            "  building_type  floor  floors    year                 date source  \\\n",
            "0     кирпичный     12      14  2023.0  2023-02-04 20:05:01   Site   \n",
            "1     кирпичный      5      12  2023.0  2023-02-04 20:04:49   Site   \n",
            "2    монолитный      5      12  2023.0  2023-02-04 20:04:37   Site   \n",
            "3     кирпичный      5      12  2023.0  2023-02-04 20:04:01   Site   \n",
            "4     кирпичный      1      12  2013.0  2023-02-04 20:02:37   Site   \n",
            "\n",
            "               condition  \n",
            "0  под самоотделку (ПСО)  \n",
            "1  под самоотделку (ПСО)  \n",
            "2  под самоотделку (ПСО)  \n",
            "3  под самоотделку (ПСО)  \n",
            "4                хорошее  \n"
          ]
        }
      ]
    },
    {
      "cell_type": "code",
      "source": [
        "df[\"date\"] = pd.to_datetime(df[\"date\"], errors=\"coerce\")\n",
        "df_last_7_days = df[df[\"date\"] >= pd.Timestamp.today() - pd.Timedelta(days=7)]\n",
        "\"Объявления за 7 дней:\", df_last_7_days.head()"
      ],
      "metadata": {
        "colab": {
          "base_uri": "https://localhost:8080/"
        },
        "id": "ytfIEZ0apVX9",
        "outputId": "3546ab48-b718-4afe-adfb-e3ab82ed392a"
      },
      "execution_count": 25,
      "outputs": [
        {
          "output_type": "stream",
          "name": "stdout",
          "text": [
            "Объявления за 7 дней: Empty DataFrame\n",
            "Columns: [price, m2_price, square, rooms, district, micro_district, building_type, floor, floors, year, date, source, condition]\n",
            "Index: []\n"
          ]
        }
      ]
    },
    {
      "cell_type": "code",
      "source": [
        "source_counts = df[\"source\"].value_counts()\n",
        "print(\"Источник объявлений:\", source_counts)"
      ],
      "metadata": {
        "colab": {
          "base_uri": "https://localhost:8080/"
        },
        "id": "eT7hxjOppzqd",
        "outputId": "76a3bd37-45de-4a52-db56-1861a7f40c22"
      },
      "execution_count": 29,
      "outputs": [
        {
          "output_type": "stream",
          "name": "stdout",
          "text": [
            "Источник объявлений: source\n",
            "Site       5992\n",
            "iOS        2028\n",
            "Android    1980\n",
            "Name: count, dtype: int64\n"
          ]
        }
      ]
    },
    {
      "cell_type": "code",
      "source": [
        "df_condition_new = df[df[\"condition\"].str.contains(\"новостройка\", case=False, na=False)]\n",
        "\"Новостройки:\", df_condition_new.head()"
      ],
      "metadata": {
        "colab": {
          "base_uri": "https://localhost:8080/"
        },
        "id": "jnMoDoIhp-FV",
        "outputId": "125e631b-0e2c-485b-ba6e-24db1c90757c"
      },
      "execution_count": 27,
      "outputs": [
        {
          "output_type": "stream",
          "name": "stdout",
          "text": [
            "Новостройки: Empty DataFrame\n",
            "Columns: [price, m2_price, square, rooms, district, micro_district, building_type, floor, floors, year, date, source, condition]\n",
            "Index: []\n"
          ]
        }
      ]
    },
    {
      "cell_type": "markdown",
      "source": [],
      "metadata": {
        "id": "3D3mWFsVoqV8"
      }
    }
  ]
}